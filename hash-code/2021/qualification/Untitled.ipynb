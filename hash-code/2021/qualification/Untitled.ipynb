{
 "cells": [
  {
   "cell_type": "code",
   "execution_count": 104,
   "id": "earned-sheriff",
   "metadata": {},
   "outputs": [],
   "source": [
    "import pandas as pd\n",
    "import matplotlib.pyplot as plt\n",
    "import numpy as np"
   ]
  },
  {
   "cell_type": "code",
   "execution_count": 127,
   "id": "small-selection",
   "metadata": {},
   "outputs": [],
   "source": [
    "files = ['a.txt', 'b.txt', 'c.txt', 'd.txt', 'e.txt', 'f.txt']\n",
    "file = files[3]"
   ]
  },
  {
   "cell_type": "code",
   "execution_count": 128,
   "id": "gothic-destination",
   "metadata": {},
   "outputs": [],
   "source": [
    "intersections = []\n",
    "streets = []\n",
    "cars = []\n",
    "street_len = {}\n",
    "car_len = []\n",
    "with open(file, 'r') as f:\n",
    "    for i, l in enumerate(f):\n",
    "        if i == 0:\n",
    "            d, i, s, v, f = [int(x) for x in l.split()]\n",
    "        elif i <= s:\n",
    "            streets.append((int(l.split()[0]), int(l.split()[1]), l.split()[2], l.split()[3]))\n",
    "            street_len[l.split()[2]] = int(l.split()[3])\n",
    "        else:\n",
    "            cars.append((int(l.split()[0]), l.split()[1:]))\n",
    "            car_len.append(np.array([street_len[x] for x in l.split()[1:]]).sum())\n",
    "            "
   ]
  },
  {
   "cell_type": "code",
   "execution_count": 129,
   "id": "stuffed-ecuador",
   "metadata": {},
   "outputs": [
    {
     "name": "stdout",
     "output_type": "stream",
     "text": [
      "duration 8071\n",
      "intersections 96928\n",
      "streets 95928\n",
      "cars 1000\n",
      "f 1000\n"
     ]
    }
   ],
   "source": [
    "print(\"duration {}\".format(d))\n",
    "print(\"intersections {}\".format(i))\n",
    "print(\"streets {}\".format(s))\n",
    "print(\"cars {}\".format(v))\n",
    "print(\"f {}\".format(f))"
   ]
  },
  {
   "cell_type": "code",
   "execution_count": 130,
   "id": "packed-interpretation",
   "metadata": {},
   "outputs": [
    {
     "data": {
      "text/plain": [
       "200000"
      ]
     },
     "execution_count": 130,
     "metadata": {},
     "output_type": "execute_result"
    }
   ],
   "source": [
    "streets_count = []\n",
    "for c in cars:\n",
    "    streets_count += c[1]\n",
    "len(streets_count)"
   ]
  },
  {
   "cell_type": "code",
   "execution_count": 131,
   "id": "backed-floor",
   "metadata": {},
   "outputs": [
    {
     "data": {
      "text/plain": [
       "Text(0.5, 0, 'len of path')"
      ]
     },
     "execution_count": 131,
     "metadata": {},
     "output_type": "execute_result"
    },
    {
     "data": {
      "image/png": "[encoded data removed]",
      "text/plain": [
       "<Figure size 432x288 with 1 Axes>"
      ]
     },
     "metadata": {
      "needs_background": "light"
     },
     "output_type": "display_data"
    }
   ],
   "source": [
    "cars_count = []\n",
    "for c in cars:\n",
    "    cars_count.append(len(c[1]))\n",
    "plt.hist(cars_count)\n",
    "plt.xlabel(\"len of path\")"
   ]
  },
  {
   "cell_type": "code",
   "execution_count": 132,
   "id": "fossil-virtue",
   "metadata": {
    "scrolled": true
   },
   "outputs": [
    {
     "data": {
      "text/plain": [
       "(array([  8.,  27.,  97., 174., 257., 199., 163.,  56.,  14.,   5.]),\n",
       " array([4504. , 4630.6, 4757.2, 4883.8, 5010.4, 5137. , 5263.6, 5390.2,\n",
       "        5516.8, 5643.4, 5770. ]),\n",
       " <a list of 10 Patch objects>)"
      ]
     },
     "execution_count": 132,
     "metadata": {},
     "output_type": "execute_result"
    },
    {
     "data": {
      "image/png": "[encoded data removed]",
      "text/plain": [
       "<Figure size 432x288 with 1 Axes>"
      ]
     },
     "metadata": {
      "needs_background": "light"
     },
     "output_type": "display_data"
    }
   ],
   "source": [
    "plt.hist(car_len)"
   ]
  },
  {
   "cell_type": "code",
   "execution_count": null,
   "id": "broke-ireland",
   "metadata": {},
   "outputs": [],
   "source": []
  }
 ],
 "metadata": {
  "kernelspec": {
   "display_name": "Python 3",
   "language": "python",
   "name": "python3"
  },
  "language_info": {
   "codemirror_mode": {
    "name": "ipython",
    "version": 3
   },
   "file_extension": ".py",
   "mimetype": "text/x-python",
   "name": "python",
   "nbconvert_exporter": "python",
   "pygments_lexer": "ipython3",
   "version": "3.7.8"
  }
 },
 "nbformat": 4,
 "nbformat_minor": 5
}
