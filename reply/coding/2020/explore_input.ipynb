{
 "cells": [
  {
   "cell_type": "code",
   "execution_count": 29,
   "id": "musical-burst",
   "metadata": {},
   "outputs": [],
   "source": [
    "import numpy as np\n",
    "import pandas as pd\n",
    "import matplotlib.pyplot as plt\n",
    "from string import ascii_lowercase"
   ]
  },
  {
   "cell_type": "code",
   "execution_count": 23,
   "id": "linear-majority",
   "metadata": {},
   "outputs": [],
   "source": [
    "files = []\n",
    "for s in ascii_lowercase[:6]:\n",
    "    files.append(\"{}.txt\".format(s))"
   ]
  },
  {
   "cell_type": "code",
   "execution_count": 30,
   "id": "adjacent-netscape",
   "metadata": {},
   "outputs": [],
   "source": [
    "# Read the input\n",
    "def read_input(filename):\n",
    "    with open(filename, 'r') as f:\n",
    "        w, h = [int(x) for x in f.readline().split()]\n",
    "        office = []\n",
    "        for i in range(h):\n",
    "            office.append(f.readline())\n",
    "        d = int(f.readline())\n",
    "        devs = []\n",
    "        for i in range(d):\n",
    "            line = f.readline()\n",
    "            devs.append({\n",
    "                \"company\": line.split()[0],\n",
    "                \"bonus\": int(line.split()[1]),\n",
    "                \"skills\": set([x for x in line.split()[3:]])\n",
    "                })\n",
    "        pm = int(f.readline())\n",
    "        managers = []\n",
    "        for i in range(pm):\n",
    "            line = f.readline()\n",
    "            managers.append({\n",
    "                \"company\": line.split()[0],\n",
    "                \"bonus\": int(line.split()[1])\n",
    "                })\n",
    "        return office, devs, managers"
   ]
  },
  {
   "cell_type": "code",
   "execution_count": 45,
   "id": "circular-thread",
   "metadata": {},
   "outputs": [
    {
     "name": "stdout",
     "output_type": "stream",
     "text": [
      "a.txt\n",
      "#Developers: 10\n",
      "Max devs per company: 3\n",
      "# companies: 5\n",
      "avg bonus: 4.2 +- 2.4404006956964173\n",
      "avg skills: 2.6 +- 0.8432740427115678\n",
      "#Managers: 3\n",
      "# Companies: 3\n",
      "avg bonus: 2.6666666666666665 +- 2.081665999466133\n",
      "b.txt\n",
      "#Developers: 6836\n",
      "Max devs per company: 90\n",
      "# companies: 100\n",
      "avg bonus: 10.515359859566999 +- 2.2992440860400762\n",
      "avg skills: 14.95655354008192 +- 3.155332370822301\n",
      "#Managers: 1207\n",
      "# Companies: 100\n",
      "avg bonus: 17.897265948632974 +- 6.398023960180999\n",
      "c.txt\n",
      "#Developers: 7588\n",
      "Max devs per company: 89\n",
      "# companies: 120\n",
      "avg bonus: 5.0 +- 0.0\n",
      "avg skills: 9.628887717448603 +- 6.870154129920177\n",
      "#Managers: 1242\n",
      "# Companies: 120\n",
      "avg bonus: 5.0 +- 0.0\n",
      "d.txt\n",
      "#Developers: 30114\n",
      "Max devs per company: 108\n",
      "# companies: 350\n",
      "avg bonus: 10.444876137344757 +- 2.409639498790193\n",
      "avg skills: 15.010792322507804 +- 3.165728063881842\n",
      "#Managers: 5049\n",
      "# Companies: 350\n",
      "avg bonus: 17.491186373539314 +- 6.443553791063172\n",
      "e.txt\n",
      "#Developers: 38165\n",
      "Max devs per company: 90\n",
      "# companies: 600\n",
      "avg bonus: 5.130197825232543 +- 3.77341429753105\n",
      "avg skills: 9.186558364994104 +- 6.896820128200955\n",
      "#Managers: 6549\n",
      "# Companies: 600\n",
      "avg bonus: 8.714460222934798 +- 6.937851793618472\n",
      "f.txt\n",
      "#Developers: 77271\n",
      "Max devs per company: 619\n",
      "# companies: 150\n",
      "avg bonus: 5.998252902123695 +- 1.4175350136665794\n",
      "avg skills: 9.003545961615613 +- 2.001258269927897\n",
      "#Managers: 13498\n",
      "# Companies: 150\n",
      "avg bonus: 9.98992443324937 +- 3.7156929351751042\n"
     ]
    }
   ],
   "source": [
    "for filename in files:\n",
    "    office, devs, managers = read_input(filename)\n",
    "    df_devs = pd.DataFrame(devs)\n",
    "    df_managers = pd.DataFrame(managers)\n",
    "    print(filename)\n",
    "    print(\"#Developers: {}\".format(len(df_devs)))\n",
    "    print(\"Max devs per company: {}\".format(\n",
    "        df_devs.groupby('company').count().max()['bonus']\n",
    "    ))\n",
    "    print(\"# companies: {}\".format(len(df_devs['company'].unique())))\n",
    "    print(\"avg bonus: {} +- {}\".format(df_devs['bonus'].mean(), df_devs['bonus'].std()))\n",
    "    print(\"avg skills: {} +- {}\".format(df_devs['skills'].apply(lambda x: len(x)).mean(), \n",
    "                                       df_devs['skills'].apply(lambda x: len(x)).std()))\n",
    "    print(\"#Managers: {}\".format(len(df_managers)))\n",
    "    print(\"# Companies: {}\".format(len(df_managers['company'].unique())))\n",
    "    print(\"avg bonus: {} +- {}\".format(df_managers['bonus'].mean(), df_managers['bonus'].std()))"
   ]
  }
 ],
 "metadata": {
  "kernelspec": {
   "display_name": "Python 3",
   "language": "python",
   "name": "python3"
  },
  "language_info": {
   "codemirror_mode": {
    "name": "ipython",
    "version": 3
   },
   "file_extension": ".py",
   "mimetype": "text/x-python",
   "name": "python",
   "nbconvert_exporter": "python",
   "pygments_lexer": "ipython3",
   "version": "3.7.8"
  }
 },
 "nbformat": 4,
 "nbformat_minor": 5
}
