{
 "cells": [
  {
   "cell_type": "code",
   "execution_count": 128,
   "id": "agreed-stack",
   "metadata": {},
   "outputs": [],
   "source": [
    "import numpy as np\n",
    "import pandas as pd\n",
    "import matplotlib.pyplot as plt\n",
    "from string import ascii_lowercase\n",
    "from PIL import Image\n",
    "from pprint import pprint\n",
    "from tqdm import tqdm"
   ]
  },
  {
   "cell_type": "code",
   "execution_count": 2,
   "id": "employed-romania",
   "metadata": {},
   "outputs": [
    {
     "name": "stdout",
     "output_type": "stream",
     "text": [
      "['a.txt', 'b.txt', 'c.txt', 'd.txt', 'e.txt', 'f.txt']\n"
     ]
    }
   ],
   "source": [
    "files = []\n",
    "for s in ascii_lowercase[:6]:\n",
    "    files.append(\"{}.txt\".format(s))\n",
    "print(files)"
   ]
  },
  {
   "cell_type": "code",
   "execution_count": 31,
   "id": "covered-billy",
   "metadata": {},
   "outputs": [],
   "source": [
    "# Read the input\n",
    "# office has -1 for #\n",
    "#            -2 for devs\n",
    "#            -3 for managers\n",
    "EMPTY = -1\n",
    "DEV = -2\n",
    "MANAGER = -3 \n",
    "def read_input(filename):\n",
    "    with open(filename, 'r') as f:\n",
    "        w, h = [int(x) for x in f.readline().split()]\n",
    "        office_c = []\n",
    "        for i in range(h):\n",
    "            office_c.append(f.readline())\n",
    "        office = []\n",
    "        for i in range(len(office_c)):\n",
    "            office.append([])\n",
    "            for j in range(len(office_c[i])):\n",
    "                if office_c[i][j] == '#':\n",
    "                    office[i].append(-1)\n",
    "                if office_c[i][j] == '_':\n",
    "                    office[i].append(-2)\n",
    "                if office_c[i][j] == 'M':\n",
    "                    office[i].append(-3)\n",
    "        d = int(f.readline())\n",
    "        devs = []\n",
    "        for i in range(d):\n",
    "            line = f.readline()\n",
    "            devs.append({\n",
    "                \"company\": line.split()[0],\n",
    "                \"bonus\": int(line.split()[1]),\n",
    "                \"skills\": set([x for x in line.split()[3:]]),\n",
    "                \"id\": i\n",
    "                })\n",
    "        pm = int(f.readline())\n",
    "        managers = []\n",
    "        for i in range(pm):\n",
    "            line = f.readline()\n",
    "            managers.append({\n",
    "                \"company\": line.split()[0],\n",
    "                \"bonus\": int(line.split()[1]),\n",
    "                \"id\": i\n",
    "                })\n",
    "        return office, devs, managers"
   ]
  },
  {
   "cell_type": "code",
   "execution_count": 11,
   "id": "residential-offer",
   "metadata": {},
   "outputs": [],
   "source": [
    "# Analysis for the offices:\n",
    "for filename in files:\n",
    "    office, devs, managers = read_input(filename)\n",
    "    image = Image.new(\"RGB\", (len(office), len(office[0])), \"white\")\n",
    "    pixels = image.load()\n",
    "    for i in range(len(office)):\n",
    "        for j in range(len(office[i])):\n",
    "            if office[i][j] == '#':\n",
    "                pixels[i, j] = (0,0,0)  \n",
    "            elif office[i][j] == '_':\n",
    "                pixels[i, j] = (0,255,0)  \n",
    "            else:\n",
    "                pixels[i, j] = (0,0,255)  \n",
    "    image.show()"
   ]
  },
  {
   "cell_type": "code",
   "execution_count": 19,
   "id": "conscious-capture",
   "metadata": {},
   "outputs": [
    {
     "name": "stdout",
     "output_type": "stream",
     "text": [
      "4 10\n"
     ]
    },
    {
     "data": {
      "image/png": "[encoded data removed]",
      "text/plain": [
       "<Figure size 432x288 with 1 Axes>"
      ]
     },
     "metadata": {
      "needs_background": "light"
     },
     "output_type": "display_data"
    },
    {
     "name": "stdout",
     "output_type": "stream",
     "text": [
      "6798 6836\n"
     ]
    },
    {
     "data": {
      "image/png": "[encoded data removed]",
      "text/plain": [
       "<Figure size 432x288 with 1 Axes>"
      ]
     },
     "metadata": {
      "needs_background": "light"
     },
     "output_type": "display_data"
    },
    {
     "name": "stdout",
     "output_type": "stream",
     "text": [
      "7256 7588\n"
     ]
    },
    {
     "data": {
      "image/png": "[encoded data removed]",
      "text/plain": [
       "<Figure size 432x288 with 1 Axes>"
      ]
     },
     "metadata": {
      "needs_background": "light"
     },
     "output_type": "display_data"
    },
    {
     "name": "stdout",
     "output_type": "stream",
     "text": [
      "29800 30114\n"
     ]
    },
    {
     "data": {
      "image/png": "[encoded data removed]",
      "text/plain": [
       "<Figure size 432x288 with 1 Axes>"
      ]
     },
     "metadata": {
      "needs_background": "light"
     },
     "output_type": "display_data"
    },
    {
     "name": "stdout",
     "output_type": "stream",
     "text": [
      "35569 38165\n"
     ]
    },
    {
     "data": {
      "image/png": "[encoded data removed]",
      "text/plain": [
       "<Figure size 432x288 with 1 Axes>"
      ]
     },
     "metadata": {
      "needs_background": "light"
     },
     "output_type": "display_data"
    },
    {
     "name": "stdout",
     "output_type": "stream",
     "text": [
      "73320 77271\n"
     ]
    },
    {
     "data": {
      "image/png": "[encoded data removed]",
      "text/plain": [
       "<Figure size 432x288 with 1 Axes>"
      ]
     },
     "metadata": {
      "needs_background": "light"
     },
     "output_type": "display_data"
    }
   ],
   "source": [
    "for filename in files:\n",
    "    office, devs, managers = read_input(filename)\n",
    "    visited = np.zeros((len(office), len(office[0])))\n",
    "    developers_spots = 0\n",
    "    ccs = []\n",
    "    for i in range(len(office)):\n",
    "        for j in range(len(office[i])):\n",
    "            if office[i][j] == '_':\n",
    "                developers_spots += 1\n",
    "            if visited[i, j] == 0:\n",
    "                ccs.append(0)\n",
    "                q = [(i,j)]\n",
    "                visited[i, j] = 1\n",
    "                while len(q) != 0:\n",
    "                    y, x= q[-1]\n",
    "                    q.pop()\n",
    "                    visited[y,x] = 1\n",
    "                    ccs[-1] += 1\n",
    "                    for l in range(-1, 2):\n",
    "                        for k in range(-1, 2):\n",
    "                            if l == 0 or k == 0:\n",
    "                                if l + y >= 0 and l+y < len(office) and x+k >= 0 and x+k < len(office[0]):\n",
    "                                    if visited[l+y, x+k] == 0 and office[l+y][x+k] == '_':\n",
    "                                        visited[l+y, x+k] = 1\n",
    "                                        q.append((l+y, x+k))\n",
    "    print(developers_spots, len(devs))\n",
    "    plt.hist(np.array(ccs))\n",
    "    plt.yscale('log')\n",
    "\n",
    "    plt.show()"
   ]
  },
  {
   "cell_type": "code",
   "execution_count": 4,
   "id": "subject-harrison",
   "metadata": {},
   "outputs": [
    {
     "name": "stdout",
     "output_type": "stream",
     "text": [
      "a.txt\n",
      "#Developers: 10\n",
      "Max devs per company: 3\n",
      "# companies: 5\n",
      "avg bonus: 4.2 +- 2.4404006956964173\n",
      "avg skills: 2.6 +- 0.8432740427115678\n",
      "#Managers: 3\n",
      "# Companies: 3\n",
      "avg bonus: 2.6666666666666665 +- 2.081665999466133\n",
      "b.txt\n",
      "#Developers: 6836\n",
      "Max devs per company: 90\n",
      "# companies: 100\n",
      "avg bonus: 10.515359859566999 +- 2.2992440860400762\n",
      "avg skills: 14.95655354008192 +- 3.155332370822301\n",
      "#Managers: 1207\n",
      "# Companies: 100\n",
      "avg bonus: 17.897265948632974 +- 6.398023960180999\n",
      "c.txt\n",
      "#Developers: 7588\n",
      "Max devs per company: 89\n",
      "# companies: 120\n",
      "avg bonus: 5.0 +- 0.0\n",
      "avg skills: 9.628887717448603 +- 6.870154129920177\n",
      "#Managers: 1242\n",
      "# Companies: 120\n",
      "avg bonus: 5.0 +- 0.0\n",
      "d.txt\n",
      "#Developers: 30114\n",
      "Max devs per company: 108\n",
      "# companies: 350\n",
      "avg bonus: 10.444876137344757 +- 2.409639498790193\n",
      "avg skills: 15.010792322507804 +- 3.165728063881842\n",
      "#Managers: 5049\n",
      "# Companies: 350\n",
      "avg bonus: 17.491186373539314 +- 6.443553791063172\n",
      "e.txt\n",
      "#Developers: 38165\n",
      "Max devs per company: 90\n",
      "# companies: 600\n",
      "avg bonus: 5.130197825232543 +- 3.77341429753105\n",
      "avg skills: 9.186558364994104 +- 6.896820128200955\n",
      "#Managers: 6549\n",
      "# Companies: 600\n",
      "avg bonus: 8.714460222934798 +- 6.937851793618472\n",
      "f.txt\n",
      "#Developers: 77271\n",
      "Max devs per company: 619\n",
      "# companies: 150\n",
      "avg bonus: 5.998252902123695 +- 1.4175350136665794\n",
      "avg skills: 9.003545961615613 +- 2.001258269927897\n",
      "#Managers: 13498\n",
      "# Companies: 150\n",
      "avg bonus: 9.98992443324937 +- 3.7156929351751042\n"
     ]
    }
   ],
   "source": [
    "for filename in files:\n",
    "    office, devs, managers = read_input(filename)\n",
    "    df_devs = pd.DataFrame(devs)\n",
    "    df_managers = pd.DataFrame(managers)\n",
    "    print(filename)\n",
    "    print(\"#Developers: {}\".format(len(df_devs)))\n",
    "    print(\"Max devs per company: {}\".format(\n",
    "        df_devs.groupby('company').count().max()['bonus']\n",
    "    ))\n",
    "    print(\"# companies: {}\".format(len(df_devs['company'].unique())))\n",
    "    print(\"avg bonus: {} +- {}\".format(df_devs['bonus'].mean(), df_devs['bonus'].std()))\n",
    "    print(\"avg skills: {} +- {}\".format(df_devs['skills'].apply(lambda x: len(x)).mean(), \n",
    "                                       df_devs['skills'].apply(lambda x: len(x)).std()))\n",
    "    print(\"#Managers: {}\".format(len(df_managers)))\n",
    "    print(\"# Companies: {}\".format(len(df_managers['company'].unique())))\n",
    "    print(\"avg bonus: {} +- {}\".format(df_managers['bonus'].mean(), df_managers['bonus'].std()))"
   ]
  },
  {
   "cell_type": "code",
   "execution_count": 163,
   "id": "useful-frank",
   "metadata": {},
   "outputs": [],
   "source": [
    "def compute_points(x, manager=False):\n",
    "    if not manager:\n",
    "        len_inter = len(x.skills_x.intersection(x.skills_y))\n",
    "        len_union = len(x.skills_x.union(x.skills_y))\n",
    "    else:\n",
    "        len_inter = 0\n",
    "        len_union = 0\n",
    "    return len_inter * (len_union - len_inter) + x.bonus_x * x.bonus_y"
   ]
  },
  {
   "cell_type": "code",
   "execution_count": 21,
   "id": "necessary-vulnerability",
   "metadata": {
    "collapsed": true,
    "jupyter": {
     "outputs_hidden": true
    }
   },
   "outputs": [
    {
     "ename": "NameError",
     "evalue": "name 'compute_points' is not defined",
     "output_type": "error",
     "traceback": [
      "\u001b[0;31m---------------------------------------------------------------------------\u001b[0m",
      "\u001b[0;31mNameError\u001b[0m                                 Traceback (most recent call last)",
      "\u001b[0;32m<ipython-input-21-34fdf99be817>\u001b[0m in \u001b[0;36m<module>\u001b[0;34m\u001b[0m\n\u001b[1;32m      5\u001b[0m     \u001b[0mdf_devs_merged\u001b[0m \u001b[0;34m=\u001b[0m \u001b[0mdf_devs\u001b[0m\u001b[0;34m.\u001b[0m\u001b[0mmerge\u001b[0m\u001b[0;34m(\u001b[0m\u001b[0mdf_devs\u001b[0m\u001b[0;34m,\u001b[0m \u001b[0mleft_on\u001b[0m\u001b[0;34m=\u001b[0m\u001b[0;34m'company'\u001b[0m\u001b[0;34m,\u001b[0m \u001b[0mright_on\u001b[0m\u001b[0;34m=\u001b[0m\u001b[0;34m'company'\u001b[0m\u001b[0;34m)\u001b[0m\u001b[0;34m\u001b[0m\u001b[0;34m\u001b[0m\u001b[0m\n\u001b[1;32m      6\u001b[0m     \u001b[0mdf_devs_merged\u001b[0m \u001b[0;34m=\u001b[0m \u001b[0mdf_devs_merged\u001b[0m\u001b[0;34m[\u001b[0m\u001b[0mdf_devs_merged\u001b[0m\u001b[0;34m.\u001b[0m\u001b[0mid_x\u001b[0m \u001b[0;34m<\u001b[0m \u001b[0mdf_devs_merged\u001b[0m\u001b[0;34m.\u001b[0m\u001b[0mid_y\u001b[0m\u001b[0;34m]\u001b[0m\u001b[0;34m\u001b[0m\u001b[0;34m\u001b[0m\u001b[0m\n\u001b[0;32m----> 7\u001b[0;31m     \u001b[0mdf_devs_merged\u001b[0m\u001b[0;34m[\u001b[0m\u001b[0;34m'points'\u001b[0m\u001b[0;34m]\u001b[0m \u001b[0;34m=\u001b[0m \u001b[0mdf_devs_merged\u001b[0m\u001b[0;34m.\u001b[0m\u001b[0mapply\u001b[0m\u001b[0;34m(\u001b[0m\u001b[0;32mlambda\u001b[0m \u001b[0mx\u001b[0m\u001b[0;34m:\u001b[0m \u001b[0mcompute_points\u001b[0m\u001b[0;34m(\u001b[0m\u001b[0mx\u001b[0m\u001b[0;34m)\u001b[0m\u001b[0;34m,\u001b[0m \u001b[0maxis\u001b[0m\u001b[0;34m=\u001b[0m\u001b[0;36m1\u001b[0m\u001b[0;34m)\u001b[0m\u001b[0;34m\u001b[0m\u001b[0;34m\u001b[0m\u001b[0m\n\u001b[0m\u001b[1;32m      8\u001b[0m     \u001b[0mprint\u001b[0m\u001b[0;34m(\u001b[0m\u001b[0mlen\u001b[0m\u001b[0;34m(\u001b[0m\u001b[0mdf_devs_merged\u001b[0m\u001b[0;34m)\u001b[0m\u001b[0;34m)\u001b[0m\u001b[0;34m\u001b[0m\u001b[0;34m\u001b[0m\u001b[0m\n\u001b[1;32m      9\u001b[0m     \u001b[0mprint\u001b[0m\u001b[0;34m(\u001b[0m\u001b[0mdf_devs_merged\u001b[0m\u001b[0;34m[\u001b[0m\u001b[0;34m:\u001b[0m\u001b[0;36m20\u001b[0m\u001b[0;34m]\u001b[0m\u001b[0;34m)\u001b[0m\u001b[0;34m\u001b[0m\u001b[0;34m\u001b[0m\u001b[0m\n",
      "\u001b[0;32m~/miniconda3/envs/entity_match/lib/python3.7/site-packages/pandas/core/frame.py\u001b[0m in \u001b[0;36mapply\u001b[0;34m(self, func, axis, raw, result_type, args, **kwds)\u001b[0m\n\u001b[1;32m   7550\u001b[0m             \u001b[0mkwds\u001b[0m\u001b[0;34m=\u001b[0m\u001b[0mkwds\u001b[0m\u001b[0;34m,\u001b[0m\u001b[0;34m\u001b[0m\u001b[0;34m\u001b[0m\u001b[0m\n\u001b[1;32m   7551\u001b[0m         )\n\u001b[0;32m-> 7552\u001b[0;31m         \u001b[0;32mreturn\u001b[0m \u001b[0mop\u001b[0m\u001b[0;34m.\u001b[0m\u001b[0mget_result\u001b[0m\u001b[0;34m(\u001b[0m\u001b[0;34m)\u001b[0m\u001b[0;34m\u001b[0m\u001b[0;34m\u001b[0m\u001b[0m\n\u001b[0m\u001b[1;32m   7553\u001b[0m \u001b[0;34m\u001b[0m\u001b[0m\n\u001b[1;32m   7554\u001b[0m     \u001b[0;32mdef\u001b[0m \u001b[0mapplymap\u001b[0m\u001b[0;34m(\u001b[0m\u001b[0mself\u001b[0m\u001b[0;34m,\u001b[0m \u001b[0mfunc\u001b[0m\u001b[0;34m)\u001b[0m \u001b[0;34m->\u001b[0m \u001b[0;34m\"DataFrame\"\u001b[0m\u001b[0;34m:\u001b[0m\u001b[0;34m\u001b[0m\u001b[0;34m\u001b[0m\u001b[0m\n",
      "\u001b[0;32m~/miniconda3/envs/entity_match/lib/python3.7/site-packages/pandas/core/apply.py\u001b[0m in \u001b[0;36mget_result\u001b[0;34m(self)\u001b[0m\n\u001b[1;32m    178\u001b[0m             \u001b[0;32mreturn\u001b[0m \u001b[0mself\u001b[0m\u001b[0;34m.\u001b[0m\u001b[0mapply_raw\u001b[0m\u001b[0;34m(\u001b[0m\u001b[0;34m)\u001b[0m\u001b[0;34m\u001b[0m\u001b[0;34m\u001b[0m\u001b[0m\n\u001b[1;32m    179\u001b[0m \u001b[0;34m\u001b[0m\u001b[0m\n\u001b[0;32m--> 180\u001b[0;31m         \u001b[0;32mreturn\u001b[0m \u001b[0mself\u001b[0m\u001b[0;34m.\u001b[0m\u001b[0mapply_standard\u001b[0m\u001b[0;34m(\u001b[0m\u001b[0;34m)\u001b[0m\u001b[0;34m\u001b[0m\u001b[0;34m\u001b[0m\u001b[0m\n\u001b[0m\u001b[1;32m    181\u001b[0m \u001b[0;34m\u001b[0m\u001b[0m\n\u001b[1;32m    182\u001b[0m     \u001b[0;32mdef\u001b[0m \u001b[0mapply_empty_result\u001b[0m\u001b[0;34m(\u001b[0m\u001b[0mself\u001b[0m\u001b[0;34m)\u001b[0m\u001b[0;34m:\u001b[0m\u001b[0;34m\u001b[0m\u001b[0;34m\u001b[0m\u001b[0m\n",
      "\u001b[0;32m~/miniconda3/envs/entity_match/lib/python3.7/site-packages/pandas/core/apply.py\u001b[0m in \u001b[0;36mapply_standard\u001b[0;34m(self)\u001b[0m\n\u001b[1;32m    269\u001b[0m \u001b[0;34m\u001b[0m\u001b[0m\n\u001b[1;32m    270\u001b[0m     \u001b[0;32mdef\u001b[0m \u001b[0mapply_standard\u001b[0m\u001b[0;34m(\u001b[0m\u001b[0mself\u001b[0m\u001b[0;34m)\u001b[0m\u001b[0;34m:\u001b[0m\u001b[0;34m\u001b[0m\u001b[0;34m\u001b[0m\u001b[0m\n\u001b[0;32m--> 271\u001b[0;31m         \u001b[0mresults\u001b[0m\u001b[0;34m,\u001b[0m \u001b[0mres_index\u001b[0m \u001b[0;34m=\u001b[0m \u001b[0mself\u001b[0m\u001b[0;34m.\u001b[0m\u001b[0mapply_series_generator\u001b[0m\u001b[0;34m(\u001b[0m\u001b[0;34m)\u001b[0m\u001b[0;34m\u001b[0m\u001b[0;34m\u001b[0m\u001b[0m\n\u001b[0m\u001b[1;32m    272\u001b[0m \u001b[0;34m\u001b[0m\u001b[0m\n\u001b[1;32m    273\u001b[0m         \u001b[0;31m# wrap results\u001b[0m\u001b[0;34m\u001b[0m\u001b[0;34m\u001b[0m\u001b[0;34m\u001b[0m\u001b[0m\n",
      "\u001b[0;32m~/miniconda3/envs/entity_match/lib/python3.7/site-packages/pandas/core/apply.py\u001b[0m in \u001b[0;36mapply_series_generator\u001b[0;34m(self)\u001b[0m\n\u001b[1;32m    298\u001b[0m                 \u001b[0;32mfor\u001b[0m \u001b[0mi\u001b[0m\u001b[0;34m,\u001b[0m \u001b[0mv\u001b[0m \u001b[0;32min\u001b[0m \u001b[0menumerate\u001b[0m\u001b[0;34m(\u001b[0m\u001b[0mseries_gen\u001b[0m\u001b[0;34m)\u001b[0m\u001b[0;34m:\u001b[0m\u001b[0;34m\u001b[0m\u001b[0;34m\u001b[0m\u001b[0m\n\u001b[1;32m    299\u001b[0m                     \u001b[0;31m# ignore SettingWithCopy here in case the user mutates\u001b[0m\u001b[0;34m\u001b[0m\u001b[0;34m\u001b[0m\u001b[0;34m\u001b[0m\u001b[0m\n\u001b[0;32m--> 300\u001b[0;31m                     \u001b[0mresults\u001b[0m\u001b[0;34m[\u001b[0m\u001b[0mi\u001b[0m\u001b[0;34m]\u001b[0m \u001b[0;34m=\u001b[0m \u001b[0mself\u001b[0m\u001b[0;34m.\u001b[0m\u001b[0mf\u001b[0m\u001b[0;34m(\u001b[0m\u001b[0mv\u001b[0m\u001b[0;34m)\u001b[0m\u001b[0;34m\u001b[0m\u001b[0;34m\u001b[0m\u001b[0m\n\u001b[0m\u001b[1;32m    301\u001b[0m                     \u001b[0;32mif\u001b[0m \u001b[0misinstance\u001b[0m\u001b[0;34m(\u001b[0m\u001b[0mresults\u001b[0m\u001b[0;34m[\u001b[0m\u001b[0mi\u001b[0m\u001b[0;34m]\u001b[0m\u001b[0;34m,\u001b[0m \u001b[0mABCSeries\u001b[0m\u001b[0;34m)\u001b[0m\u001b[0;34m:\u001b[0m\u001b[0;34m\u001b[0m\u001b[0;34m\u001b[0m\u001b[0m\n\u001b[1;32m    302\u001b[0m                         \u001b[0;31m# If we have a view on v, we need to make a copy because\u001b[0m\u001b[0;34m\u001b[0m\u001b[0;34m\u001b[0m\u001b[0;34m\u001b[0m\u001b[0m\n",
      "\u001b[0;32m<ipython-input-21-34fdf99be817>\u001b[0m in \u001b[0;36m<lambda>\u001b[0;34m(x)\u001b[0m\n\u001b[1;32m      5\u001b[0m     \u001b[0mdf_devs_merged\u001b[0m \u001b[0;34m=\u001b[0m \u001b[0mdf_devs\u001b[0m\u001b[0;34m.\u001b[0m\u001b[0mmerge\u001b[0m\u001b[0;34m(\u001b[0m\u001b[0mdf_devs\u001b[0m\u001b[0;34m,\u001b[0m \u001b[0mleft_on\u001b[0m\u001b[0;34m=\u001b[0m\u001b[0;34m'company'\u001b[0m\u001b[0;34m,\u001b[0m \u001b[0mright_on\u001b[0m\u001b[0;34m=\u001b[0m\u001b[0;34m'company'\u001b[0m\u001b[0;34m)\u001b[0m\u001b[0;34m\u001b[0m\u001b[0;34m\u001b[0m\u001b[0m\n\u001b[1;32m      6\u001b[0m     \u001b[0mdf_devs_merged\u001b[0m \u001b[0;34m=\u001b[0m \u001b[0mdf_devs_merged\u001b[0m\u001b[0;34m[\u001b[0m\u001b[0mdf_devs_merged\u001b[0m\u001b[0;34m.\u001b[0m\u001b[0mid_x\u001b[0m \u001b[0;34m<\u001b[0m \u001b[0mdf_devs_merged\u001b[0m\u001b[0;34m.\u001b[0m\u001b[0mid_y\u001b[0m\u001b[0;34m]\u001b[0m\u001b[0;34m\u001b[0m\u001b[0;34m\u001b[0m\u001b[0m\n\u001b[0;32m----> 7\u001b[0;31m     \u001b[0mdf_devs_merged\u001b[0m\u001b[0;34m[\u001b[0m\u001b[0;34m'points'\u001b[0m\u001b[0;34m]\u001b[0m \u001b[0;34m=\u001b[0m \u001b[0mdf_devs_merged\u001b[0m\u001b[0;34m.\u001b[0m\u001b[0mapply\u001b[0m\u001b[0;34m(\u001b[0m\u001b[0;32mlambda\u001b[0m \u001b[0mx\u001b[0m\u001b[0;34m:\u001b[0m \u001b[0mcompute_points\u001b[0m\u001b[0;34m(\u001b[0m\u001b[0mx\u001b[0m\u001b[0;34m)\u001b[0m\u001b[0;34m,\u001b[0m \u001b[0maxis\u001b[0m\u001b[0;34m=\u001b[0m\u001b[0;36m1\u001b[0m\u001b[0;34m)\u001b[0m\u001b[0;34m\u001b[0m\u001b[0;34m\u001b[0m\u001b[0m\n\u001b[0m\u001b[1;32m      8\u001b[0m     \u001b[0mprint\u001b[0m\u001b[0;34m(\u001b[0m\u001b[0mlen\u001b[0m\u001b[0;34m(\u001b[0m\u001b[0mdf_devs_merged\u001b[0m\u001b[0;34m)\u001b[0m\u001b[0;34m)\u001b[0m\u001b[0;34m\u001b[0m\u001b[0;34m\u001b[0m\u001b[0m\n\u001b[1;32m      9\u001b[0m     \u001b[0mprint\u001b[0m\u001b[0;34m(\u001b[0m\u001b[0mdf_devs_merged\u001b[0m\u001b[0;34m[\u001b[0m\u001b[0;34m:\u001b[0m\u001b[0;36m20\u001b[0m\u001b[0;34m]\u001b[0m\u001b[0;34m)\u001b[0m\u001b[0;34m\u001b[0m\u001b[0;34m\u001b[0m\u001b[0m\n",
      "\u001b[0;31mNameError\u001b[0m: name 'compute_points' is not defined"
     ]
    }
   ],
   "source": [
    "for filename in files:\n",
    "    office, devs, managers = read_input(filename)\n",
    "    df_devs = pd.DataFrame(devs)\n",
    "    df_managers = pd.DataFrame(managers)\n",
    "    df_devs_merged = df_devs.merge(df_devs, left_on='company', right_on='company')\n",
    "    df_devs_merged = df_devs_merged[df_devs_merged.id_x < df_devs_merged.id_y]\n",
    "    df_devs_merged['points'] = df_devs_merged.apply(lambda x: compute_points(x), axis=1)\n",
    "    print(len(df_devs_merged))\n",
    "    print(df_devs_merged[:20])"
   ]
  },
  {
   "cell_type": "code",
   "execution_count": 168,
   "id": "understood-closure",
   "metadata": {},
   "outputs": [],
   "source": [
    "filename = files[1]\n",
    "office, devs, managers = read_input(filename)\n",
    "df_devs = pd.DataFrame(devs)\n",
    "df_devs['x'] = np.array([-1 for i in range(len(df_devs))])\n",
    "df_devs['y'] = np.array([-1 for i in range(len(df_devs))])\n",
    "df_managers = pd.DataFrame(managers)\n",
    "df_managers['x'] = np.array([-1 for i in range(len(df_managers))])\n",
    "df_managers['y'] = np.array([-1 for i in range(len(df_managers))])\n",
    "df_devs_merged = df_devs.merge(df_devs, left_on='company', right_on='company')\n",
    "df_devs_merged = df_devs_merged[df_devs_merged.id_x < df_devs_merged.id_y]\n",
    "df_devs_merged['points'] = df_devs_merged.apply(lambda x: compute_points(x), axis=1)\n",
    "df_devs_merged = df_devs_merged.drop(columns=['bonus_x', 'company','x_x', 'y_x', 'bonus_y', \"x_y\", 'y_y'])\n",
    "df_managers_merged = df_managers.merge(df_managers, left_on='company', right_on='company')\n",
    "df_managers_merged = df_managers_merged[df_managers_merged.id_x < df_managers_merged.id_y]\n",
    "df_managers_merged['points'] = df_managers_merged.apply(lambda x: compute_points(x, True), axis=1)"
   ]
  },
  {
   "cell_type": "code",
   "execution_count": 174,
   "id": "drawn-overview",
   "metadata": {},
   "outputs": [],
   "source": [
    "def computeAssignments(office, merged_df, df, deskType):\n",
    "    for i in tqdm(range(len(office))):\n",
    "        for j in range(len(office[i])):\n",
    "            if office[i][j] == deskType:\n",
    "                best_score = 0\n",
    "                best_dev = None\n",
    "                for k in range(-1, 2):\n",
    "                    for l in range(-1, 2):\n",
    "                        if (k == 0 or l == 0) and (k!=0 or l!=0):\n",
    "                            if i+k>=0 and i+k<len(office) and j+l>=0 and j+l<len(office[i]):\n",
    "                                if office[i+k][j+l] >= 0:\n",
    "                                    # There is an employee\n",
    "                                    tmp = merged_df[\n",
    "                                        (merged_df['id_x']==office[i+k][j+l]) | \n",
    "                                        (merged_df['id_y']==office[i+k][j+l])].merge(\n",
    "                                            df, \n",
    "                                            left_on='id_x', \n",
    "                                            right_on='id', \n",
    "                                            suffixes=('_left', '_right')).merge(\n",
    "                                        df, left_on='id_y', right_on='id', suffixes=('_0', '_1'))\n",
    "                                    tmp = tmp[(tmp['x_0']==-1) | (tmp['x_1']==-1)]\n",
    "                                    if len(tmp) > 0:\n",
    "                                        tmp = tmp.sort_values('points', ascending=False).iloc[0]\n",
    "                                        p = tmp['points']\n",
    "                                        dev = tmp['id_x'] if tmp['id_x'] != office[i+k][j+l] else tmp['id_y']\n",
    "                                        if p > best_score:\n",
    "                                            best_score = p\n",
    "                                            best_dev = dev\n",
    "                if best_dev != None:\n",
    "                    office[i][j] = best_dev\n",
    "                    df.loc[best_dev, 'x'] = j\n",
    "                    df.loc[best_dev, 'y'] = i\n",
    "                else:\n",
    "                    random_row = df[df['x']==-1].sample(1).iloc[0]\n",
    "                    office[i][j] = random_row['id']\n",
    "                    df.loc[random_row['id'], 'x'] = j\n",
    "                    df.loc[random_row['id'], 'y'] = i\n",
    "                #pprint(office)"
   ]
  },
  {
   "cell_type": "code",
   "execution_count": 170,
   "id": "damaged-smooth",
   "metadata": {},
   "outputs": [
    {
     "name": "stderr",
     "output_type": "stream",
     "text": [
      "100%|██████████| 100/100 [01:42<00:00,  1.03s/it]\n"
     ]
    }
   ],
   "source": [
    "computeAssignments(office, df_devs_merged, df_devs, DEV)"
   ]
  },
  {
   "cell_type": "code",
   "execution_count": 173,
   "id": "registered-station",
   "metadata": {},
   "outputs": [
    {
     "ename": "TypeError",
     "evalue": "computeAssignments() takes 3 positional arguments but 4 were given",
     "output_type": "error",
     "traceback": [
      "\u001b[0;31m---------------------------------------------------------------------------\u001b[0m",
      "\u001b[0;31mTypeError\u001b[0m                                 Traceback (most recent call last)",
      "\u001b[0;32m<ipython-input-173-a2406a238bb2>\u001b[0m in \u001b[0;36m<module>\u001b[0;34m\u001b[0m\n\u001b[0;32m----> 1\u001b[0;31m \u001b[0mcomputeAssignments\u001b[0m\u001b[0;34m(\u001b[0m\u001b[0moffice\u001b[0m\u001b[0;34m,\u001b[0m \u001b[0mdf_managers_merged\u001b[0m\u001b[0;34m,\u001b[0m \u001b[0mdf_managers\u001b[0m\u001b[0;34m,\u001b[0m \u001b[0mMANAGER\u001b[0m\u001b[0;34m)\u001b[0m\u001b[0;34m\u001b[0m\u001b[0;34m\u001b[0m\u001b[0m\n\u001b[0m",
      "\u001b[0;31mTypeError\u001b[0m: computeAssignments() takes 3 positional arguments but 4 were given"
     ]
    }
   ],
   "source": [
    "computeAssignments(office, df_managers_merged, df_managers, MANAGER)"
   ]
  },
  {
   "cell_type": "code",
   "execution_count": 172,
   "id": "indian-command",
   "metadata": {},
   "outputs": [
    {
     "name": "stdout",
     "output_type": "stream",
     "text": [
      "     company  bonus                                             skills    id  \\\n",
      "0     ccf1bb      9  {s05oss, s18745, sk2ggc, suiohy, s47grn, szpsx...     0   \n",
      "1     cv3f6j      9  {sz34ji, s3p9aw, scq7ky, s30ejt, skx8ur, sbfpo...     1   \n",
      "2     c5lvo1      8  {sqrgm3, sqf44i, s18745, sk2ggc, spgxtp, sye8x...     2   \n",
      "3     c2rf54      9  {s05oss, sqf44i, s0azdu, sd61kw, sye8x8, szpsx...     3   \n",
      "4     c7vpb1     13  {sqrgm3, sqf44i, sk2ggc, suiohy, sd61kw, svrtw...     4   \n",
      "...      ...    ...                                                ...   ...   \n",
      "6831  c7lfl5     14  {sqrgm3, sqf44i, sk2ggc, spgxtp, sye8x8, sd61k...  6831   \n",
      "6832  cnb5vt     13  {sgwweq, sz34ji, sqit8w, sogq71, s3p9aw, savka...  6832   \n",
      "6833  cy8hnj     13  {sdiy8s, sgwweq, sqit8w, sa0v8w, s3p9aw, sogq7...  6833   \n",
      "6834  c2rf54     12  {sqrgm3, s18745, s0azdu, szpsx1, s2eqln, sf1vt...  6834   \n",
      "6835  ccpzg8     11  {sdiy8s, s05oss, s0azdu, sogq71, spgxtp, sf7u7...  6835   \n",
      "\n",
      "       x   y  \n",
      "0     44  31  \n",
      "1     69  91  \n",
      "2     81  90  \n",
      "3     29  80  \n",
      "4     63  70  \n",
      "...   ..  ..  \n",
      "6831  49  36  \n",
      "6832  38  71  \n",
      "6833  63  10  \n",
      "6834  25  77  \n",
      "6835  86  88  \n",
      "\n",
      "[6836 rows x 6 columns]\n",
      "     company  bonus    id  x  y\n",
      "0     croqvd     24     0 -1 -1\n",
      "1     c5cikb     19     1 -1 -1\n",
      "2     co9af4     22     2 -1 -1\n",
      "3     c1hgsa     18     3 -1 -1\n",
      "4     cxxm4w     21     4 -1 -1\n",
      "...      ...    ...   ... .. ..\n",
      "1202  cb18rg     17  1202 -1 -1\n",
      "1203  condkf     17  1203 -1 -1\n",
      "1204  cy8hnj     21  1204 -1 -1\n",
      "1205  ccpzg8     14  1205 -1 -1\n",
      "1206  cefh7l     27  1206 -1 -1\n",
      "\n",
      "[1207 rows x 5 columns]\n"
     ]
    }
   ],
   "source": [
    "def print_output(df_devs, df_managers, outfile):\n",
    "    print(df_devs)\n",
    "    print(df_managers)\n",
    "    with open(outfile, 'w') as f:\n",
    "        for i, l in df_devs.iterrows():\n",
    "            if l.x == -1:\n",
    "                print(\"X\", file=f)\n",
    "            else:\n",
    "                print(\"{} {}\".format(l.x, l.y), file=f)\n",
    "        for i, l in df_managers.iterrows():\n",
    "            if l.x == -1:\n",
    "                print(\"X\", file=f)\n",
    "            else:\n",
    "                print(\"{} {}\".format(l.x, l.y), file=f)\n",
    "print_output(df_devs, df_managers, \"{}.out\".format(filename.split('.')[0]))"
   ]
  },
  {
   "cell_type": "code",
   "execution_count": null,
   "id": "champion-motivation",
   "metadata": {},
   "outputs": [],
   "source": []
  }
 ],
 "metadata": {
  "kernelspec": {
   "display_name": "Python 3",
   "language": "python",
   "name": "python3"
  },
  "language_info": {
   "codemirror_mode": {
    "name": "ipython",
    "version": 3
   },
   "file_extension": ".py",
   "mimetype": "text/x-python",
   "name": "python",
   "nbconvert_exporter": "python",
   "pygments_lexer": "ipython3",
   "version": "3.7.8"
  }
 },
 "nbformat": 4,
 "nbformat_minor": 5
}
