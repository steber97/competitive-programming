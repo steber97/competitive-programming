{
 "cells": [
  {
   "cell_type": "code",
   "execution_count": 128,
   "id": "classified-shaft",
   "metadata": {},
   "outputs": [],
   "source": [
    "import numpy as np\n",
    "import pandas as pd\n",
    "import matplotlib.pyplot as plt\n",
    "from string import ascii_lowercase\n",
    "from PIL import Image\n",
    "from pprint import pprint\n",
    "from tqdm import tqdm"
   ]
  },
  {
   "cell_type": "code",
   "execution_count": 2,
   "id": "dried-patio",
   "metadata": {},
   "outputs": [
    {
     "name": "stdout",
     "output_type": "stream",
     "text": [
      "['a.txt', 'b.txt', 'c.txt', 'd.txt', 'e.txt', 'f.txt']\n"
     ]
    }
   ],
   "source": [
    "files = []\n",
    "for s in ascii_lowercase[:6]:\n",
    "    files.append(\"{}.txt\".format(s))\n",
    "print(files)"
   ]
  },
  {
   "cell_type": "code",
   "execution_count": 31,
   "id": "confirmed-steal",
   "metadata": {},
   "outputs": [],
   "source": [
    "# Read the input\n",
    "# office has -1 for #\n",
    "#            -2 for devs\n",
    "#            -3 for managers\n",
    "EMPTY = -1\n",
    "DEV = -2\n",
    "MANAGER = -3 \n",
    "def read_input(filename):\n",
    "    with open(filename, 'r') as f:\n",
    "        w, h = [int(x) for x in f.readline().split()]\n",
    "        office_c = []\n",
    "        for i in range(h):\n",
    "            office_c.append(f.readline())\n",
    "        office = []\n",
    "        for i in range(len(office_c)):\n",
    "            office.append([])\n",
    "            for j in range(len(office_c[i])):\n",
    "                if office_c[i][j] == '#':\n",
    "                    office[i].append(-1)\n",
    "                if office_c[i][j] == '_':\n",
    "                    office[i].append(-2)\n",
    "                if office_c[i][j] == 'M':\n",
    "                    office[i].append(-3)\n",
    "        d = int(f.readline())\n",
    "        devs = []\n",
    "        for i in range(d):\n",
    "            line = f.readline()\n",
    "            devs.append({\n",
    "                \"company\": line.split()[0],\n",
    "                \"bonus\": int(line.split()[1]),\n",
    "                \"skills\": set([x for x in line.split()[3:]]),\n",
    "                \"id\": i\n",
    "                })\n",
    "        pm = int(f.readline())\n",
    "        managers = []\n",
    "        for i in range(pm):\n",
    "            line = f.readline()\n",
    "            managers.append({\n",
    "                \"company\": line.split()[0],\n",
    "                \"bonus\": int(line.split()[1]),\n",
    "                \"id\": i\n",
    "                })\n",
    "        return office, devs, managers"
   ]
  },
  {
   "cell_type": "code",
   "execution_count": 11,
   "id": "artistic-conclusion",
   "metadata": {},
   "outputs": [],
   "source": [
    "# Analysis for the offices:\n",
    "for filename in files:\n",
    "    office, devs, managers = read_input(filename)\n",
    "    image = Image.new(\"RGB\", (len(office), len(office[0])), \"white\")\n",
    "    pixels = image.load()\n",
    "    for i in range(len(office)):\n",
    "        for j in range(len(office[i])):\n",
    "            if office[i][j] == '#':\n",
    "                pixels[i, j] = (0,0,0)  \n",
    "            elif office[i][j] == '_':\n",
    "                pixels[i, j] = (0,255,0)  \n",
    "            else:\n",
    "                pixels[i, j] = (0,0,255)  \n",
    "    image.show()"
   ]
  },
  {
   "cell_type": "code",
   "execution_count": 188,
   "id": "buried-basics",
   "metadata": {},
   "outputs": [
    {
     "name": "stdout",
     "output_type": "stream",
     "text": [
      "devs: 4/10, managers: 2/3\n"
     ]
    },
    {
     "data": {
      "image/png": "[encoded data removed]",
      "text/plain": [
       "<Figure size 432x288 with 1 Axes>"
      ]
     },
     "metadata": {
      "needs_background": "light"
     },
     "output_type": "display_data"
    },
    {
     "name": "stdout",
     "output_type": "stream",
     "text": [
      "devs: 6798/6836, managers: 705/1207\n"
     ]
    },
    {
     "data": {
      "image/png": "[encoded data removed]",
      "text/plain": [
       "<Figure size 432x288 with 1 Axes>"
      ]
     },
     "metadata": {
      "needs_background": "light"
     },
     "output_type": "display_data"
    },
    {
     "name": "stdout",
     "output_type": "stream",
     "text": [
      "devs: 7256/7588, managers: 1860/1242\n"
     ]
    },
    {
     "data": {
      "image/png": "[encoded data removed]",
      "text/plain": [
       "<Figure size 432x288 with 1 Axes>"
      ]
     },
     "metadata": {
      "needs_background": "light"
     },
     "output_type": "display_data"
    },
    {
     "name": "stdout",
     "output_type": "stream",
     "text": [
      "devs: 29800/30114, managers: 3000/5049\n"
     ]
    },
    {
     "data": {
      "image/png": "[encoded data removed]",
      "text/plain": [
       "<Figure size 432x288 with 1 Axes>"
      ]
     },
     "metadata": {
      "needs_background": "light"
     },
     "output_type": "display_data"
    },
    {
     "name": "stdout",
     "output_type": "stream",
     "text": [
      "devs: 35569/38165, managers: 8699/6549\n"
     ]
    },
    {
     "data": {
      "image/png": "[encoded data removed]",
      "text/plain": [
       "<Figure size 432x288 with 1 Axes>"
      ]
     },
     "metadata": {
      "needs_background": "light"
     },
     "output_type": "display_data"
    },
    {
     "name": "stdout",
     "output_type": "stream",
     "text": [
      "devs: 73320/77271, managers: 11666/13498\n"
     ]
    },
    {
     "data": {
      "image/png": "[encoded data removed]",
      "text/plain": [
       "<Figure size 432x288 with 1 Axes>"
      ]
     },
     "metadata": {
      "needs_background": "light"
     },
     "output_type": "display_data"
    }
   ],
   "source": [
    "for filename in files:\n",
    "    office, devs, managers = read_input(filename)\n",
    "    visited = np.zeros((len(office), len(office[0])))\n",
    "    developers_desks = 0\n",
    "    managers_desks = 0\n",
    "    ccs = []\n",
    "    for i in range(len(office)):\n",
    "        for j in range(len(office[i])):\n",
    "            if office[i][j] == DEV:\n",
    "                developers_desks += 1\n",
    "            if office[i][j] == MANAGER:\n",
    "                managers_desks += 1\n",
    "            if visited[i, j] == 0:\n",
    "                ccs.append(0)\n",
    "                q = [(i,j)]\n",
    "                visited[i, j] = 1\n",
    "                while len(q) != 0:\n",
    "                    y, x= q[-1]\n",
    "                    q.pop()\n",
    "                    visited[y,x] = 1\n",
    "                    ccs[-1] += 1\n",
    "                    for l in range(-1, 2):\n",
    "                        for k in range(-1, 2):\n",
    "                            if l == 0 or k == 0:\n",
    "                                if l + y >= 0 and l+y < len(office) and x+k >= 0 and x+k < len(office[0]):\n",
    "                                    if visited[l+y, x+k] == 0 and office[l+y][x+k] == '_':\n",
    "                                        visited[l+y, x+k] = 1\n",
    "                                        q.append((l+y, x+k))\n",
    "    print(\"devs: {}/{}, managers: {}/{}\".format(developers_desks, len(devs), managers_desks, len(managers)))\n",
    "    plt.hist(np.array(ccs))\n",
    "    plt.yscale('log')\n",
    "\n",
    "    plt.show()"
   ]
  },
  {
   "cell_type": "code",
   "execution_count": 4,
   "id": "based-tower",
   "metadata": {},
   "outputs": [
    {
     "name": "stdout",
     "output_type": "stream",
     "text": [
      "a.txt\n",
      "#Developers: 10\n",
      "Max devs per company: 3\n",
      "# companies: 5\n",
      "avg bonus: 4.2 +- 2.4404006956964173\n",
      "avg skills: 2.6 +- 0.8432740427115678\n",
      "#Managers: 3\n",
      "# Companies: 3\n",
      "avg bonus: 2.6666666666666665 +- 2.081665999466133\n",
      "b.txt\n",
      "#Developers: 6836\n",
      "Max devs per company: 90\n",
      "# companies: 100\n",
      "avg bonus: 10.515359859566999 +- 2.2992440860400762\n",
      "avg skills: 14.95655354008192 +- 3.155332370822301\n",
      "#Managers: 1207\n",
      "# Companies: 100\n",
      "avg bonus: 17.897265948632974 +- 6.398023960180999\n",
      "c.txt\n",
      "#Developers: 7588\n",
      "Max devs per company: 89\n",
      "# companies: 120\n",
      "avg bonus: 5.0 +- 0.0\n",
      "avg skills: 9.628887717448603 +- 6.870154129920177\n",
      "#Managers: 1242\n",
      "# Companies: 120\n",
      "avg bonus: 5.0 +- 0.0\n",
      "d.txt\n",
      "#Developers: 30114\n",
      "Max devs per company: 108\n",
      "# companies: 350\n",
      "avg bonus: 10.444876137344757 +- 2.409639498790193\n",
      "avg skills: 15.010792322507804 +- 3.165728063881842\n",
      "#Managers: 5049\n",
      "# Companies: 350\n",
      "avg bonus: 17.491186373539314 +- 6.443553791063172\n",
      "e.txt\n",
      "#Developers: 38165\n",
      "Max devs per company: 90\n",
      "# companies: 600\n",
      "avg bonus: 5.130197825232543 +- 3.77341429753105\n",
      "avg skills: 9.186558364994104 +- 6.896820128200955\n",
      "#Managers: 6549\n",
      "# Companies: 600\n",
      "avg bonus: 8.714460222934798 +- 6.937851793618472\n",
      "f.txt\n",
      "#Developers: 77271\n",
      "Max devs per company: 619\n",
      "# companies: 150\n",
      "avg bonus: 5.998252902123695 +- 1.4175350136665794\n",
      "avg skills: 9.003545961615613 +- 2.001258269927897\n",
      "#Managers: 13498\n",
      "# Companies: 150\n",
      "avg bonus: 9.98992443324937 +- 3.7156929351751042\n"
     ]
    }
   ],
   "source": [
    "for filename in files:\n",
    "    office, devs, managers = read_input(filename)\n",
    "    df_devs = pd.DataFrame(devs)\n",
    "    df_managers = pd.DataFrame(managers)\n",
    "    print(filename)\n",
    "    print(\"#Developers: {}\".format(len(df_devs)))\n",
    "    print(\"Max devs per company: {}\".format(\n",
    "        df_devs.groupby('company').count().max()['bonus']\n",
    "    ))\n",
    "    print(\"# companies: {}\".format(len(df_devs['company'].unique())))\n",
    "    print(\"avg bonus: {} +- {}\".format(df_devs['bonus'].mean(), df_devs['bonus'].std()))\n",
    "    print(\"avg skills: {} +- {}\".format(df_devs['skills'].apply(lambda x: len(x)).mean(), \n",
    "                                       df_devs['skills'].apply(lambda x: len(x)).std()))\n",
    "    print(\"#Managers: {}\".format(len(df_managers)))\n",
    "    print(\"# Companies: {}\".format(len(df_managers['company'].unique())))\n",
    "    print(\"avg bonus: {} +- {}\".format(df_managers['bonus'].mean(), df_managers['bonus'].std()))"
   ]
  },
  {
   "cell_type": "code",
   "execution_count": 163,
   "id": "mathematical-spanking",
   "metadata": {},
   "outputs": [],
   "source": [
    "def compute_points(x, manager=False):\n",
    "    if not manager:\n",
    "        len_inter = len(x.skills_x.intersection(x.skills_y))\n",
    "        len_union = len(x.skills_x.union(x.skills_y))\n",
    "    else:\n",
    "        len_inter = 0\n",
    "        len_union = 0\n",
    "    return len_inter * (len_union - len_inter) + x.bonus_x * x.bonus_y"
   ]
  },
  {
   "cell_type": "code",
   "execution_count": 21,
   "id": "colored-geography",
   "metadata": {
    "collapsed": true,
    "jupyter": {
     "outputs_hidden": true
    }
   },
   "outputs": [
    {
     "ename": "NameError",
     "evalue": "name 'compute_points' is not defined",
     "output_type": "error",
     "traceback": [
      "\u001b[0;31m---------------------------------------------------------------------------\u001b[0m",
      "\u001b[0;31mNameError\u001b[0m                                 Traceback (most recent call last)",
      "\u001b[0;32m<ipython-input-21-34fdf99be817>\u001b[0m in \u001b[0;36m<module>\u001b[0;34m\u001b[0m\n\u001b[1;32m      5\u001b[0m     \u001b[0mdf_devs_merged\u001b[0m \u001b[0;34m=\u001b[0m \u001b[0mdf_devs\u001b[0m\u001b[0;34m.\u001b[0m\u001b[0mmerge\u001b[0m\u001b[0;34m(\u001b[0m\u001b[0mdf_devs\u001b[0m\u001b[0;34m,\u001b[0m \u001b[0mleft_on\u001b[0m\u001b[0;34m=\u001b[0m\u001b[0;34m'company'\u001b[0m\u001b[0;34m,\u001b[0m \u001b[0mright_on\u001b[0m\u001b[0;34m=\u001b[0m\u001b[0;34m'company'\u001b[0m\u001b[0;34m)\u001b[0m\u001b[0;34m\u001b[0m\u001b[0;34m\u001b[0m\u001b[0m\n\u001b[1;32m      6\u001b[0m     \u001b[0mdf_devs_merged\u001b[0m \u001b[0;34m=\u001b[0m \u001b[0mdf_devs_merged\u001b[0m\u001b[0;34m[\u001b[0m\u001b[0mdf_devs_merged\u001b[0m\u001b[0;34m.\u001b[0m\u001b[0mid_x\u001b[0m \u001b[0;34m<\u001b[0m \u001b[0mdf_devs_merged\u001b[0m\u001b[0;34m.\u001b[0m\u001b[0mid_y\u001b[0m\u001b[0;34m]\u001b[0m\u001b[0;34m\u001b[0m\u001b[0;34m\u001b[0m\u001b[0m\n\u001b[0;32m----> 7\u001b[0;31m     \u001b[0mdf_devs_merged\u001b[0m\u001b[0;34m[\u001b[0m\u001b[0;34m'points'\u001b[0m\u001b[0;34m]\u001b[0m \u001b[0;34m=\u001b[0m \u001b[0mdf_devs_merged\u001b[0m\u001b[0;34m.\u001b[0m\u001b[0mapply\u001b[0m\u001b[0;34m(\u001b[0m\u001b[0;32mlambda\u001b[0m \u001b[0mx\u001b[0m\u001b[0;34m:\u001b[0m \u001b[0mcompute_points\u001b[0m\u001b[0;34m(\u001b[0m\u001b[0mx\u001b[0m\u001b[0;34m)\u001b[0m\u001b[0;34m,\u001b[0m \u001b[0maxis\u001b[0m\u001b[0;34m=\u001b[0m\u001b[0;36m1\u001b[0m\u001b[0;34m)\u001b[0m\u001b[0;34m\u001b[0m\u001b[0;34m\u001b[0m\u001b[0m\n\u001b[0m\u001b[1;32m      8\u001b[0m     \u001b[0mprint\u001b[0m\u001b[0;34m(\u001b[0m\u001b[0mlen\u001b[0m\u001b[0;34m(\u001b[0m\u001b[0mdf_devs_merged\u001b[0m\u001b[0;34m)\u001b[0m\u001b[0;34m)\u001b[0m\u001b[0;34m\u001b[0m\u001b[0;34m\u001b[0m\u001b[0m\n\u001b[1;32m      9\u001b[0m     \u001b[0mprint\u001b[0m\u001b[0;34m(\u001b[0m\u001b[0mdf_devs_merged\u001b[0m\u001b[0;34m[\u001b[0m\u001b[0;34m:\u001b[0m\u001b[0;36m20\u001b[0m\u001b[0;34m]\u001b[0m\u001b[0;34m)\u001b[0m\u001b[0;34m\u001b[0m\u001b[0;34m\u001b[0m\u001b[0m\n",
      "\u001b[0;32m~/miniconda3/envs/entity_match/lib/python3.7/site-packages/pandas/core/frame.py\u001b[0m in \u001b[0;36mapply\u001b[0;34m(self, func, axis, raw, result_type, args, **kwds)\u001b[0m\n\u001b[1;32m   7550\u001b[0m             \u001b[0mkwds\u001b[0m\u001b[0;34m=\u001b[0m\u001b[0mkwds\u001b[0m\u001b[0;34m,\u001b[0m\u001b[0;34m\u001b[0m\u001b[0;34m\u001b[0m\u001b[0m\n\u001b[1;32m   7551\u001b[0m         )\n\u001b[0;32m-> 7552\u001b[0;31m         \u001b[0;32mreturn\u001b[0m \u001b[0mop\u001b[0m\u001b[0;34m.\u001b[0m\u001b[0mget_result\u001b[0m\u001b[0;34m(\u001b[0m\u001b[0;34m)\u001b[0m\u001b[0;34m\u001b[0m\u001b[0;34m\u001b[0m\u001b[0m\n\u001b[0m\u001b[1;32m   7553\u001b[0m \u001b[0;34m\u001b[0m\u001b[0m\n\u001b[1;32m   7554\u001b[0m     \u001b[0;32mdef\u001b[0m \u001b[0mapplymap\u001b[0m\u001b[0;34m(\u001b[0m\u001b[0mself\u001b[0m\u001b[0;34m,\u001b[0m \u001b[0mfunc\u001b[0m\u001b[0;34m)\u001b[0m \u001b[0;34m->\u001b[0m \u001b[0;34m\"DataFrame\"\u001b[0m\u001b[0;34m:\u001b[0m\u001b[0;34m\u001b[0m\u001b[0;34m\u001b[0m\u001b[0m\n",
      "\u001b[0;32m~/miniconda3/envs/entity_match/lib/python3.7/site-packages/pandas/core/apply.py\u001b[0m in \u001b[0;36mget_result\u001b[0;34m(self)\u001b[0m\n\u001b[1;32m    178\u001b[0m             \u001b[0;32mreturn\u001b[0m \u001b[0mself\u001b[0m\u001b[0;34m.\u001b[0m\u001b[0mapply_raw\u001b[0m\u001b[0;34m(\u001b[0m\u001b[0;34m)\u001b[0m\u001b[0;34m\u001b[0m\u001b[0;34m\u001b[0m\u001b[0m\n\u001b[1;32m    179\u001b[0m \u001b[0;34m\u001b[0m\u001b[0m\n\u001b[0;32m--> 180\u001b[0;31m         \u001b[0;32mreturn\u001b[0m \u001b[0mself\u001b[0m\u001b[0;34m.\u001b[0m\u001b[0mapply_standard\u001b[0m\u001b[0;34m(\u001b[0m\u001b[0;34m)\u001b[0m\u001b[0;34m\u001b[0m\u001b[0;34m\u001b[0m\u001b[0m\n\u001b[0m\u001b[1;32m    181\u001b[0m \u001b[0;34m\u001b[0m\u001b[0m\n\u001b[1;32m    182\u001b[0m     \u001b[0;32mdef\u001b[0m \u001b[0mapply_empty_result\u001b[0m\u001b[0;34m(\u001b[0m\u001b[0mself\u001b[0m\u001b[0;34m)\u001b[0m\u001b[0;34m:\u001b[0m\u001b[0;34m\u001b[0m\u001b[0;34m\u001b[0m\u001b[0m\n",
      "\u001b[0;32m~/miniconda3/envs/entity_match/lib/python3.7/site-packages/pandas/core/apply.py\u001b[0m in \u001b[0;36mapply_standard\u001b[0;34m(self)\u001b[0m\n\u001b[1;32m    269\u001b[0m \u001b[0;34m\u001b[0m\u001b[0m\n\u001b[1;32m    270\u001b[0m     \u001b[0;32mdef\u001b[0m \u001b[0mapply_standard\u001b[0m\u001b[0;34m(\u001b[0m\u001b[0mself\u001b[0m\u001b[0;34m)\u001b[0m\u001b[0;34m:\u001b[0m\u001b[0;34m\u001b[0m\u001b[0;34m\u001b[0m\u001b[0m\n\u001b[0;32m--> 271\u001b[0;31m         \u001b[0mresults\u001b[0m\u001b[0;34m,\u001b[0m \u001b[0mres_index\u001b[0m \u001b[0;34m=\u001b[0m \u001b[0mself\u001b[0m\u001b[0;34m.\u001b[0m\u001b[0mapply_series_generator\u001b[0m\u001b[0;34m(\u001b[0m\u001b[0;34m)\u001b[0m\u001b[0;34m\u001b[0m\u001b[0;34m\u001b[0m\u001b[0m\n\u001b[0m\u001b[1;32m    272\u001b[0m \u001b[0;34m\u001b[0m\u001b[0m\n\u001b[1;32m    273\u001b[0m         \u001b[0;31m# wrap results\u001b[0m\u001b[0;34m\u001b[0m\u001b[0;34m\u001b[0m\u001b[0;34m\u001b[0m\u001b[0m\n",
      "\u001b[0;32m~/miniconda3/envs/entity_match/lib/python3.7/site-packages/pandas/core/apply.py\u001b[0m in \u001b[0;36mapply_series_generator\u001b[0;34m(self)\u001b[0m\n\u001b[1;32m    298\u001b[0m                 \u001b[0;32mfor\u001b[0m \u001b[0mi\u001b[0m\u001b[0;34m,\u001b[0m \u001b[0mv\u001b[0m \u001b[0;32min\u001b[0m \u001b[0menumerate\u001b[0m\u001b[0;34m(\u001b[0m\u001b[0mseries_gen\u001b[0m\u001b[0;34m)\u001b[0m\u001b[0;34m:\u001b[0m\u001b[0;34m\u001b[0m\u001b[0;34m\u001b[0m\u001b[0m\n\u001b[1;32m    299\u001b[0m                     \u001b[0;31m# ignore SettingWithCopy here in case the user mutates\u001b[0m\u001b[0;34m\u001b[0m\u001b[0;34m\u001b[0m\u001b[0;34m\u001b[0m\u001b[0m\n\u001b[0;32m--> 300\u001b[0;31m                     \u001b[0mresults\u001b[0m\u001b[0;34m[\u001b[0m\u001b[0mi\u001b[0m\u001b[0;34m]\u001b[0m \u001b[0;34m=\u001b[0m \u001b[0mself\u001b[0m\u001b[0;34m.\u001b[0m\u001b[0mf\u001b[0m\u001b[0;34m(\u001b[0m\u001b[0mv\u001b[0m\u001b[0;34m)\u001b[0m\u001b[0;34m\u001b[0m\u001b[0;34m\u001b[0m\u001b[0m\n\u001b[0m\u001b[1;32m    301\u001b[0m                     \u001b[0;32mif\u001b[0m \u001b[0misinstance\u001b[0m\u001b[0;34m(\u001b[0m\u001b[0mresults\u001b[0m\u001b[0;34m[\u001b[0m\u001b[0mi\u001b[0m\u001b[0;34m]\u001b[0m\u001b[0;34m,\u001b[0m \u001b[0mABCSeries\u001b[0m\u001b[0;34m)\u001b[0m\u001b[0;34m:\u001b[0m\u001b[0;34m\u001b[0m\u001b[0;34m\u001b[0m\u001b[0m\n\u001b[1;32m    302\u001b[0m                         \u001b[0;31m# If we have a view on v, we need to make a copy because\u001b[0m\u001b[0;34m\u001b[0m\u001b[0;34m\u001b[0m\u001b[0;34m\u001b[0m\u001b[0m\n",
      "\u001b[0;32m<ipython-input-21-34fdf99be817>\u001b[0m in \u001b[0;36m<lambda>\u001b[0;34m(x)\u001b[0m\n\u001b[1;32m      5\u001b[0m     \u001b[0mdf_devs_merged\u001b[0m \u001b[0;34m=\u001b[0m \u001b[0mdf_devs\u001b[0m\u001b[0;34m.\u001b[0m\u001b[0mmerge\u001b[0m\u001b[0;34m(\u001b[0m\u001b[0mdf_devs\u001b[0m\u001b[0;34m,\u001b[0m \u001b[0mleft_on\u001b[0m\u001b[0;34m=\u001b[0m\u001b[0;34m'company'\u001b[0m\u001b[0;34m,\u001b[0m \u001b[0mright_on\u001b[0m\u001b[0;34m=\u001b[0m\u001b[0;34m'company'\u001b[0m\u001b[0;34m)\u001b[0m\u001b[0;34m\u001b[0m\u001b[0;34m\u001b[0m\u001b[0m\n\u001b[1;32m      6\u001b[0m     \u001b[0mdf_devs_merged\u001b[0m \u001b[0;34m=\u001b[0m \u001b[0mdf_devs_merged\u001b[0m\u001b[0;34m[\u001b[0m\u001b[0mdf_devs_merged\u001b[0m\u001b[0;34m.\u001b[0m\u001b[0mid_x\u001b[0m \u001b[0;34m<\u001b[0m \u001b[0mdf_devs_merged\u001b[0m\u001b[0;34m.\u001b[0m\u001b[0mid_y\u001b[0m\u001b[0;34m]\u001b[0m\u001b[0;34m\u001b[0m\u001b[0;34m\u001b[0m\u001b[0m\n\u001b[0;32m----> 7\u001b[0;31m     \u001b[0mdf_devs_merged\u001b[0m\u001b[0;34m[\u001b[0m\u001b[0;34m'points'\u001b[0m\u001b[0;34m]\u001b[0m \u001b[0;34m=\u001b[0m \u001b[0mdf_devs_merged\u001b[0m\u001b[0;34m.\u001b[0m\u001b[0mapply\u001b[0m\u001b[0;34m(\u001b[0m\u001b[0;32mlambda\u001b[0m \u001b[0mx\u001b[0m\u001b[0;34m:\u001b[0m \u001b[0mcompute_points\u001b[0m\u001b[0;34m(\u001b[0m\u001b[0mx\u001b[0m\u001b[0;34m)\u001b[0m\u001b[0;34m,\u001b[0m \u001b[0maxis\u001b[0m\u001b[0;34m=\u001b[0m\u001b[0;36m1\u001b[0m\u001b[0;34m)\u001b[0m\u001b[0;34m\u001b[0m\u001b[0;34m\u001b[0m\u001b[0m\n\u001b[0m\u001b[1;32m      8\u001b[0m     \u001b[0mprint\u001b[0m\u001b[0;34m(\u001b[0m\u001b[0mlen\u001b[0m\u001b[0;34m(\u001b[0m\u001b[0mdf_devs_merged\u001b[0m\u001b[0;34m)\u001b[0m\u001b[0;34m)\u001b[0m\u001b[0;34m\u001b[0m\u001b[0;34m\u001b[0m\u001b[0m\n\u001b[1;32m      9\u001b[0m     \u001b[0mprint\u001b[0m\u001b[0;34m(\u001b[0m\u001b[0mdf_devs_merged\u001b[0m\u001b[0;34m[\u001b[0m\u001b[0;34m:\u001b[0m\u001b[0;36m20\u001b[0m\u001b[0;34m]\u001b[0m\u001b[0;34m)\u001b[0m\u001b[0;34m\u001b[0m\u001b[0;34m\u001b[0m\u001b[0m\n",
      "\u001b[0;31mNameError\u001b[0m: name 'compute_points' is not defined"
     ]
    }
   ],
   "source": [
    "for filename in files:\n",
    "    office, devs, managers = read_input(filename)\n",
    "    df_devs = pd.DataFrame(devs)\n",
    "    df_managers = pd.DataFrame(managers)\n",
    "    df_devs_merged = df_devs.merge(df_devs, left_on='company', right_on='company')\n",
    "    df_devs_merged = df_devs_merged[df_devs_merged.id_x < df_devs_merged.id_y]\n",
    "    df_devs_merged['points'] = df_devs_merged.apply(lambda x: compute_points(x), axis=1)\n",
    "    print(len(df_devs_merged))\n",
    "    print(df_devs_merged[:20])"
   ]
  },
  {
   "cell_type": "code",
   "execution_count": 202,
   "id": "dental-pleasure",
   "metadata": {},
   "outputs": [],
   "source": [
    "filename = files[3]\n",
    "office, devs, managers = read_input(filename)\n",
    "df_devs = pd.DataFrame(devs)\n",
    "df_devs['x'] = np.array([-1 for i in range(len(df_devs))])\n",
    "df_devs['y'] = np.array([-1 for i in range(len(df_devs))])\n",
    "df_managers = pd.DataFrame(managers)\n",
    "df_managers['x'] = np.array([-1 for i in range(len(df_managers))])\n",
    "df_managers['y'] = np.array([-1 for i in range(len(df_managers))])\n",
    "df_devs_merged = df_devs.merge(df_devs, left_on='company', right_on='company')\n",
    "df_devs_merged = df_devs_merged[df_devs_merged.id_x < df_devs_merged.id_y]\n",
    "df_devs_merged['points'] = df_devs_merged.apply(lambda x: compute_points(x), axis=1)\n",
    "df_devs_merged = df_devs_merged.drop(columns=['bonus_x', 'company','x_x', 'y_x', 'bonus_y', \"x_y\", 'y_y'])\n",
    "df_managers_merged = df_managers.merge(df_managers, left_on='company', right_on='company')\n",
    "df_managers_merged = df_managers_merged[df_managers_merged.id_x < df_managers_merged.id_y]\n",
    "df_managers_merged['points'] = df_managers_merged.apply(lambda x: compute_points(x, True), axis=1)"
   ]
  },
  {
   "cell_type": "code",
   "execution_count": 203,
   "id": "general-terrace",
   "metadata": {},
   "outputs": [],
   "source": [
    "def computeAssignments(office, merged_df, df, deskType, developer=True):\n",
    "    \"\"\"\n",
    "    This function assignes for every desk in the office, if it is of the correct type:\n",
    "    in case there is a neighbor with same company and good points to be close with, then this neighbor,\n",
    "    otherwise a random neighbor.\n",
    "    \"\"\"\n",
    "    for i in tqdm(range(len(office))):\n",
    "        for j in range(len(office[i])):\n",
    "            if office[i][j] == deskType:\n",
    "                best_score = 0\n",
    "                best_dev = None\n",
    "                for k in range(-1, 2):\n",
    "                    for l in range(-1, 2):\n",
    "                        if (k == 0 or l == 0) and (k!=0 or l!=0):\n",
    "                            if i+k>=0 and i+k<len(office) and j+l>=0 and j+l<len(office[i]):\n",
    "                                if office[i+k][j+l] >= 0:\n",
    "                                    # Careful here: developers are stored from [0, df_devs.size[\n",
    "                                    # While managers from [df_devs.size, ...[ \n",
    "                                    if developer and office[i+k][j+l] < len(df):\n",
    "                                        id_empl = office[i+k][j+l]\n",
    "                                    elif not developer and office[i+k][j+l] >= len(df_devs):\n",
    "                                        id_empl = office[i+k][j+l] - len(df_devs)\n",
    "                                    else: \n",
    "                                        continue\n",
    "                                    # There is an employee\n",
    "                                    tmp = merged_df[\n",
    "                                        (merged_df['id_x']==id_empl) | \n",
    "                                        (merged_df['id_y']==id_empl)].merge(\n",
    "                                            df, \n",
    "                                            left_on='id_x', \n",
    "                                            right_on='id', \n",
    "                                            suffixes=('_left', '_right')).merge(\n",
    "                                        df, left_on='id_y', right_on='id', suffixes=('_0', '_1'))\n",
    "                                    tmp = tmp[(tmp['x_0']==-1) | (tmp['x_1']==-1)]\n",
    "                                    if len(tmp) > 0:\n",
    "                                        tmp = tmp.sort_values('points', ascending=False).iloc[0]\n",
    "                                        p = tmp['points']\n",
    "                                        dev = tmp['id_x'] if tmp['id_x'] != id_empl else tmp['id_y']\n",
    "                                        if p > best_score:\n",
    "                                            best_score = p\n",
    "                                            best_dev = dev\n",
    "                if best_dev != None:\n",
    "                    # Managers are stored counting from df_devs.size()\n",
    "                    if developer:\n",
    "                        office[i][j] = best_dev\n",
    "                    else:\n",
    "                        office[i][j] = best_dev + len(df_devs)\n",
    "                    df.loc[best_dev, 'x'] = j\n",
    "                    df.loc[best_dev, 'y'] = i\n",
    "                else:\n",
    "                    if len(df[df['x'] == -1]) == 0:\n",
    "                        # All employees have been assigned somewhere! Time to stop.\n",
    "                        return\n",
    "                    random_row = df[df['x']==-1].sample(1).iloc[0]\n",
    "                    if developer:\n",
    "                        office[i][j] = random_row['id']\n",
    "                    else:\n",
    "                        office[i][j] = random_row['id'] + len(df_devs)\n",
    "                    df.loc[random_row['id'], 'x'] = j\n",
    "                    df.loc[random_row['id'], 'y'] = i\n",
    "                #pprint(office)"
   ]
  },
  {
   "cell_type": "code",
   "execution_count": 204,
   "id": "adopted-worry",
   "metadata": {},
   "outputs": [
    {
     "name": "stderr",
     "output_type": "stream",
     "text": [
      "100%|██████████| 200/200 [09:48<00:00,  2.94s/it]\n"
     ]
    }
   ],
   "source": [
    "computeAssignments(office, df_devs_merged, df_devs, DEV)"
   ]
  },
  {
   "cell_type": "code",
   "execution_count": 205,
   "id": "accessory-harbor",
   "metadata": {},
   "outputs": [
    {
     "name": "stderr",
     "output_type": "stream",
     "text": [
      "100%|██████████| 200/200 [00:15<00:00, 12.96it/s]\n"
     ]
    }
   ],
   "source": [
    "computeAssignments(office, df_managers_merged, df_managers, MANAGER)"
   ]
  },
  {
   "cell_type": "code",
   "execution_count": 206,
   "id": "greek-sharp",
   "metadata": {},
   "outputs": [
    {
     "name": "stdout",
     "output_type": "stream",
     "text": [
      "      company  bonus                                             skills  \\\n",
      "0      cp3rt6      7  {sk3jbm, sms0lr, sz38g4, sfdry7, sytnre, swk4q...   \n",
      "1      c6dmn6      7  {s1fkmi, sw7czh, su9mux, sc9vkt, sgm8ie, s5h1e...   \n",
      "2      cxjd20     14  {sfi1sc, s3bk9z, s1wo2r, smjvzi, sjfibf, stzaa...   \n",
      "3      cgx5m4     11  {swqcx0, scwuic, snllj1, suxnlw, ss2o7e, sbvcs...   \n",
      "4      cuz4nt      8  {suneur, sqz1s3, sbgk0y, suxnlw, shxjq2, spil3...   \n",
      "...       ...    ...                                                ...   \n",
      "30109  crhehc     11  {sic6vx, sqqxrj, s6dntv, spg0rq, s86tu4, ssc60...   \n",
      "30110  crmlmb      9  {sfi1sc, smjvzi, stzaak, svke9n, sgre24, sus91...   \n",
      "30111  c2ixi6     11  {stzaak, sulr2d, slgxwv, svrj3g, sjfibf, svke9...   \n",
      "30112  c528oe      8  {shllhi, sigyjb, swqcx0, sz38g4, sxt6si, s1im8...   \n",
      "30113  c33ibj     14  {snllis, s6x4qt, snhx3r, svtsyx, sa8m99, sv7sn...   \n",
      "\n",
      "          id    x    y  \n",
      "0          0   63  168  \n",
      "1          1   39   42  \n",
      "2          2  270   81  \n",
      "3          3   82  150  \n",
      "4          4  276  157  \n",
      "...      ...  ...  ...  \n",
      "30109  30109  198   13  \n",
      "30110  30110  133   69  \n",
      "30111  30111  288   12  \n",
      "30112  30112  271   19  \n",
      "30113  30113  175    7  \n",
      "\n",
      "[30114 rows x 6 columns]\n",
      "     company  bonus    id    x    y\n",
      "0     co4x4a     26     0   -1   -1\n",
      "1     czmua4     11     1   -1   -1\n",
      "2     crc8zv     28     2  277   79\n",
      "3     cgvgs2     28     3  258   12\n",
      "4     cyqk6t     25     4  170  171\n",
      "...      ...    ...   ...  ...  ...\n",
      "5044  cid6ou     14  5044   -1   -1\n",
      "5045  cbxv0r     21  5045   -1   -1\n",
      "5046  crc8zv     17  5046   -1   -1\n",
      "5047  clxjbb     27  5047   -1   -1\n",
      "5048  c528oe     24  5048   44  135\n",
      "\n",
      "[5049 rows x 5 columns]\n"
     ]
    }
   ],
   "source": [
    "def print_output(df_devs, df_managers, outfile):\n",
    "    print(df_devs)\n",
    "    print(df_managers)\n",
    "    with open(outfile, 'w') as f:\n",
    "        for i, l in df_devs.iterrows():\n",
    "            if l.x == -1:\n",
    "                print(\"X\", file=f)\n",
    "            else:\n",
    "                print(\"{} {}\".format(l.x, l.y), file=f)\n",
    "        for i, l in df_managers.iterrows():\n",
    "            if l.x == -1:\n",
    "                print(\"X\", file=f)\n",
    "            else:\n",
    "                print(\"{} {}\".format(l.x, l.y), file=f)\n",
    "print_output(df_devs, df_managers, \"{}.out\".format(filename.split('.')[0]))"
   ]
  },
  {
   "cell_type": "code",
   "execution_count": null,
   "id": "tough-appeal",
   "metadata": {},
   "outputs": [],
   "source": []
  }
 ],
 "metadata": {
  "kernelspec": {
   "display_name": "Python 3",
   "language": "python",
   "name": "python3"
  },
  "language_info": {
   "codemirror_mode": {
    "name": "ipython",
    "version": 3
   },
   "file_extension": ".py",
   "mimetype": "text/x-python",
   "name": "python",
   "nbconvert_exporter": "python",
   "pygments_lexer": "ipython3",
   "version": "3.7.8"
  }
 },
 "nbformat": 4,
 "nbformat_minor": 5
}
